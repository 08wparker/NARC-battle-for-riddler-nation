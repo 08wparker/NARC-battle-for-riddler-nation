{
 "cells": [
  {
   "cell_type": "markdown",
   "metadata": {},
   "source": [
    "# Riddler Nation Battle Simulation"
   ]
  },
  {
   "cell_type": "code",
   "execution_count": 79,
   "metadata": {},
   "outputs": [],
   "source": [
    "import numpy as np\n",
    "import pandas as pd\n"
   ]
  },
  {
   "cell_type": "markdown",
   "metadata": {},
   "source": [
    "## I really have no idea how to set this up, just playing around with object-oriented programming here thus far"
   ]
  },
  {
   "cell_type": "code",
   "execution_count": 8,
   "metadata": {},
   "outputs": [],
   "source": [
    "class Castle:\n",
    "    \n",
    "    # Initializer / Instance Attributes\n",
    "    def __init__(self, value, team_A, team_B):\n",
    "        self.value = value\n",
    "        self.team_A = team_A\n",
    "        self.team_B = team_B\n",
    "        \n",
    "    #instance method to print status at Castle\n",
    "    def print_status(self):\n",
    "        return \"At Castle {} there are {} attackers from team A and {} attackers from team B.\".format(\n",
    "        self.value, self.team_A, self.team_B)\n",
    "    \n",
    "    #instance method to return points for each team\n",
    "    def points(self):\n",
    "        point_A = 0\n",
    "        point_B = 0\n",
    "        \n",
    "        if self.team_A > self.team_B:\n",
    "            point_A = self.value\n",
    "        elif self.team_B > self.team_A:\n",
    "            point_B = self.value\n",
    "        else:\n",
    "            point_A = self.value/2\n",
    "            point_B = self.value/2\n",
    "        \n",
    "        return point_A, point_B\n",
    "    "
   ]
  },
  {
   "cell_type": "code",
   "execution_count": 9,
   "metadata": {},
   "outputs": [],
   "source": [
    "castle_5 = Castle(5, 3, 2)\n",
    "\n",
    "castle_1 = Castle(1, 1, 1)"
   ]
  },
  {
   "cell_type": "code",
   "execution_count": 10,
   "metadata": {},
   "outputs": [
    {
     "data": {
      "text/plain": [
       "(5, 0)"
      ]
     },
     "execution_count": 10,
     "metadata": {},
     "output_type": "execute_result"
    }
   ],
   "source": [
    "castle_5.points()"
   ]
  },
  {
   "cell_type": "code",
   "execution_count": 11,
   "metadata": {},
   "outputs": [
    {
     "data": {
      "text/plain": [
       "(0.5, 0.5)"
      ]
     },
     "execution_count": 11,
     "metadata": {},
     "output_type": "execute_result"
    }
   ],
   "source": [
    "castle_1.points()"
   ]
  },
  {
   "cell_type": "code",
   "execution_count": 12,
   "metadata": {},
   "outputs": [],
   "source": [
    "class Strategy:\n",
    "    \n",
    "    def __init__(self, team_name):\n",
    "        self.team_name = team_name\n",
    "    \n",
    "    def set_troops(self, troop_dist):\n",
    "        \n",
    "        if len(troop_dist) != 10:\n",
    "            raise ValueError(\"Please provide troop distribution for all 10 castles\")\n",
    "            \n",
    "        if sum(troop_dist) != 100:\n",
    "            raise ValueError(\"Sum of troops must be 100\")\n",
    "        \n",
    "        self.troop_dist = troop_dist #vector of troop distributions to the 10 castles\n",
    "        \n",
    "    def get_troop(self):\n",
    "        \n",
    "        return self.troop_dist"
   ]
  },
  {
   "cell_type": "code",
   "execution_count": 13,
   "metadata": {},
   "outputs": [
    {
     "data": {
      "text/plain": [
       "[10, 10, 10, 10, 10, 10, 10, 10, 10, 10]"
      ]
     },
     "execution_count": 13,
     "metadata": {},
     "output_type": "execute_result"
    }
   ],
   "source": [
    "strategy_A = Strategy(\"A\")\n",
    "\n",
    "\n",
    "strategy_A.set_troops([10]*10)\n",
    "\n",
    "strategy_A.get_troop()"
   ]
  },
  {
   "cell_type": "code",
   "execution_count": 14,
   "metadata": {},
   "outputs": [],
   "source": [
    "def battle():\n",
    "    ##???????\n",
    "    pass"
   ]
  }
 ],
 "metadata": {
  "kernelspec": {
   "display_name": "Python 3",
   "language": "python",
   "name": "python3"
  },
  "language_info": {
   "codemirror_mode": {
    "name": "ipython",
    "version": 3
   },
   "file_extension": ".py",
   "mimetype": "text/x-python",
   "name": "python",
   "nbconvert_exporter": "python",
   "pygments_lexer": "ipython3",
   "version": "3.6.4"
  }
 },
 "nbformat": 4,
 "nbformat_minor": 2
}
