{
 "cells": [
  {
   "cell_type": "markdown",
   "metadata": {},
   "source": [
    "# Riddler Nation Battle Simulation"
   ]
  },
  {
   "cell_type": "code",
   "execution_count": 1,
   "metadata": {},
   "outputs": [],
   "source": [
    "import numpy as np\n",
    "import pandas as pd\n",
    "\n",
    "import itertools"
   ]
  },
  {
   "cell_type": "code",
   "execution_count": 2,
   "metadata": {},
   "outputs": [],
   "source": [
    "class Castle:\n",
    "    \n",
    "    # Initializer / Instance Attributes\n",
    "    def __init__(self, value, team_A, team_B):\n",
    "        self.value = value\n",
    "        self.team_A = team_A\n",
    "        self.team_B = team_B\n",
    "        \n",
    "    #instance method to print status at Castle\n",
    "    def print_status(self):\n",
    "        return \"At Castle {} there are {} attackers from team A and {} attackers from team B.\".format(\n",
    "        self.value, self.team_A, self.team_B)\n",
    "    \n",
    "    #instance method to return points for each team\n",
    "    def points(self):\n",
    "        point_A = 0\n",
    "        point_B = 0\n",
    "        \n",
    "        if self.team_A > self.team_B:\n",
    "            point_A = self.value\n",
    "        elif self.team_B > self.team_A:\n",
    "            point_B = self.value\n",
    "        else:\n",
    "            point_A = self.value/2\n",
    "            point_B = self.value/2\n",
    "        \n",
    "        return point_A, point_B\n",
    "    "
   ]
  },
  {
   "cell_type": "code",
   "execution_count": 3,
   "metadata": {},
   "outputs": [],
   "source": [
    "class Strategy:\n",
    "    \n",
    "#     def __init__(self):\n",
    "#         self.team_name = team_name\n",
    "    \n",
    "    def set_troops(self, troop_dist):\n",
    "        \n",
    "        if len(troop_dist) != 10:\n",
    "            raise ValueError(\"Please provide troop distribution for all 10 castles\")\n",
    "            \n",
    "        if sum(troop_dist) != 100:\n",
    "            er_1 = \"Sum of troops =\" + str(sum(troop_dist)) + \" ,must be 100\"\n",
    "            raise ValueError(er_1)\n",
    "        \n",
    "        self.troop_dist = troop_dist #vector of troop distributions to the 10 castles\n",
    "        \n",
    "    def get_troops(self):\n",
    "        \n",
    "        return self.troop_dist"
   ]
  },
  {
   "cell_type": "code",
   "execution_count": 4,
   "metadata": {},
   "outputs": [],
   "source": [
    "def battle(troop_dist_A, troop_dist_B):\n",
    "    \n",
    "    #troop_dist_A = strategy_A.get_troops()\n",
    "    \n",
    "    #troop_dist_B = strategy_B.get_troops()\n",
    "    \n",
    "    castle_values = range(1, 11)\n",
    "    \n",
    "    scores = []\n",
    "    for(value, troop_A, troop_B) in zip(castle_values, troop_dist_A, troop_dist_B):\n",
    "        cur_castle = Castle(value, troop_A, troop_B)\n",
    "        \n",
    "        #print(cur_castle.print_status())\n",
    "        \n",
    "        score_A, score_B = cur_castle.points()\n",
    "        cur_score = [score_A, score_B]\n",
    "        \n",
    "        #print(cur_score)\n",
    "        \n",
    "        scores.append(cur_score)\n",
    "    \n",
    "    scores = np.array(scores)\n",
    "    \n",
    "    \n",
    "    total_score = np.sum(scores, axis = 0)\n",
    "    \n",
    "    if total_score[0] > total_score[1]:\n",
    "        winner = [1,0]\n",
    "    \n",
    "    elif total_score[1] > total_score[0]:\n",
    "        winner = [0,1]\n",
    "        \n",
    "    else:\n",
    "        winner = [0.5, 0.5]\n",
    "        \n",
    "    return(winner)"
   ]
  },
  {
   "cell_type": "code",
   "execution_count": 5,
   "metadata": {},
   "outputs": [
    {
     "data": {
      "text/plain": [
       "[0, 1]"
      ]
     },
     "execution_count": 5,
     "metadata": {},
     "output_type": "execute_result"
    }
   ],
   "source": [
    "strategy_A = Strategy()\n",
    "\n",
    "strategy_A.set_troops([10]*10)\n",
    "\n",
    "strategy_B = Strategy()\n",
    "\n",
    "strategy_B.set_troops([5, 5, 5, 10, 10, 10, 10, 15, 15, 15])\n",
    "\n",
    "battle(strategy_A.get_troops(), strategy_B.get_troops())"
   ]
  },
  {
   "cell_type": "code",
   "execution_count": 9,
   "metadata": {},
   "outputs": [
    {
     "data": {
      "text/html": [
       "<div>\n",
       "<style scoped>\n",
       "    .dataframe tbody tr th:only-of-type {\n",
       "        vertical-align: middle;\n",
       "    }\n",
       "\n",
       "    .dataframe tbody tr th {\n",
       "        vertical-align: top;\n",
       "    }\n",
       "\n",
       "    .dataframe thead th {\n",
       "        text-align: right;\n",
       "    }\n",
       "</style>\n",
       "<table border=\"1\" class=\"dataframe\">\n",
       "  <thead>\n",
       "    <tr style=\"text-align: right;\">\n",
       "      <th></th>\n",
       "      <th>Castle 1</th>\n",
       "      <th>Castle 2</th>\n",
       "      <th>Castle 3</th>\n",
       "      <th>Castle 4</th>\n",
       "      <th>Castle 5</th>\n",
       "      <th>Castle 6</th>\n",
       "      <th>Castle 7</th>\n",
       "      <th>Castle 8</th>\n",
       "      <th>Castle 9</th>\n",
       "      <th>Castle 10</th>\n",
       "    </tr>\n",
       "  </thead>\n",
       "  <tbody>\n",
       "    <tr>\n",
       "      <td>0</td>\n",
       "      <td>2</td>\n",
       "      <td>2</td>\n",
       "      <td>2</td>\n",
       "      <td>2</td>\n",
       "      <td>6</td>\n",
       "      <td>18</td>\n",
       "      <td>2</td>\n",
       "      <td>28</td>\n",
       "      <td>36</td>\n",
       "      <td>2</td>\n",
       "    </tr>\n",
       "    <tr>\n",
       "      <td>1</td>\n",
       "      <td>1</td>\n",
       "      <td>1</td>\n",
       "      <td>1</td>\n",
       "      <td>11</td>\n",
       "      <td>19</td>\n",
       "      <td>27</td>\n",
       "      <td>37</td>\n",
       "      <td>1</td>\n",
       "      <td>1</td>\n",
       "      <td>1</td>\n",
       "    </tr>\n",
       "    <tr>\n",
       "      <td>2</td>\n",
       "      <td>2</td>\n",
       "      <td>3</td>\n",
       "      <td>4</td>\n",
       "      <td>5</td>\n",
       "      <td>6</td>\n",
       "      <td>22</td>\n",
       "      <td>6</td>\n",
       "      <td>22</td>\n",
       "      <td>22</td>\n",
       "      <td>8</td>\n",
       "    </tr>\n",
       "    <tr>\n",
       "      <td>3</td>\n",
       "      <td>2</td>\n",
       "      <td>2</td>\n",
       "      <td>4</td>\n",
       "      <td>6</td>\n",
       "      <td>6</td>\n",
       "      <td>10</td>\n",
       "      <td>11</td>\n",
       "      <td>14</td>\n",
       "      <td>17</td>\n",
       "      <td>28</td>\n",
       "    </tr>\n",
       "    <tr>\n",
       "      <td>4</td>\n",
       "      <td>1</td>\n",
       "      <td>1</td>\n",
       "      <td>2</td>\n",
       "      <td>3</td>\n",
       "      <td>16</td>\n",
       "      <td>22</td>\n",
       "      <td>1</td>\n",
       "      <td>1</td>\n",
       "      <td>33</td>\n",
       "      <td>20</td>\n",
       "    </tr>\n",
       "  </tbody>\n",
       "</table>\n",
       "</div>"
      ],
      "text/plain": [
       "   Castle 1  Castle 2  Castle 3  Castle 4  Castle 5  Castle 6  Castle 7  \\\n",
       "0         2         2         2         2         6        18         2   \n",
       "1         1         1         1        11        19        27        37   \n",
       "2         2         3         4         5         6        22         6   \n",
       "3         2         2         4         6         6        10        11   \n",
       "4         1         1         2         3        16        22         1   \n",
       "\n",
       "   Castle 8  Castle 9  Castle 10  \n",
       "0        28        36          2  \n",
       "1         1         1          1  \n",
       "2        22        22          8  \n",
       "3        14        17         28  \n",
       "4         1        33         20  "
      ]
     },
     "execution_count": 9,
     "metadata": {},
     "output_type": "execute_result"
    }
   ],
   "source": [
    "clean_data = pd.read_csv(\"clean_comp_3_data.csv\")\n",
    "\n",
    "clean_data.head()"
   ]
  },
  {
   "cell_type": "code",
   "execution_count": 11,
   "metadata": {},
   "outputs": [],
   "source": [
    "def sim_against_all(clean_data, strat):\n",
    "    strategy_results = clean_data.apply(battle, axis =1, troop_dist_B = strat.get_troops())\n",
    "\n",
    "    win_prop = np.mean(np.array(strategy_results.values.tolist()), axis =0)[1]\n",
    "    \n",
    "    return win_prop"
   ]
  },
  {
   "cell_type": "code",
   "execution_count": 12,
   "metadata": {},
   "outputs": [
    {
     "data": {
      "text/plain": [
       "0.4062027231467474"
      ]
     },
     "execution_count": 12,
     "metadata": {},
     "output_type": "execute_result"
    }
   ],
   "source": [
    "sim_against_all(clean_data, strategy_A)"
   ]
  },
  {
   "cell_type": "code",
   "execution_count": null,
   "metadata": {},
   "outputs": [],
   "source": [
    "num_strats = clean_data.shape[0]\n",
    "\n",
    "win_probs = []\n",
    "for n in range(0, num_strats):\n",
    "    cur_strat = Strategy()\n",
    "    try:\n",
    "        cur_strat.set_troops(clean_data.iloc[n])\n",
    "        w = sim_against_all(clean_data, cur_strat)\n",
    "        win_probs.append([cur_strat.get_troops(),w])\n",
    "    except:\n",
    "        print(n)"
   ]
  },
  {
   "cell_type": "code",
   "execution_count": null,
   "metadata": {},
   "outputs": [],
   "source": [
    "strat_perfom = pd.DataFrame(np.array(win_probs), columns= [\"Row\", \"Win\"])"
   ]
  },
  {
   "cell_type": "code",
   "execution_count": null,
   "metadata": {},
   "outputs": [],
   "source": [
    "strat_perfom['Win'].max()"
   ]
  },
  {
   "cell_type": "code",
   "execution_count": null,
   "metadata": {},
   "outputs": [],
   "source": [
    "strat_perfom[strat_perfom['Win']==strat_perfom['Win'].max()]"
   ]
  },
  {
   "cell_type": "code",
   "execution_count": null,
   "metadata": {},
   "outputs": [],
   "source": [
    "best_strat = Strategy()\n",
    "\n",
    "best_strat.set_troops(clean_data.iloc[926].values)"
   ]
  },
  {
   "cell_type": "code",
   "execution_count": null,
   "metadata": {},
   "outputs": [],
   "source": [
    "sim_against_all(clean_data, best_strat)"
   ]
  },
  {
   "cell_type": "code",
   "execution_count": null,
   "metadata": {},
   "outputs": [],
   "source": [
    "best_strat.get_troops()"
   ]
  },
  {
   "cell_type": "markdown",
   "metadata": {},
   "source": [
    "# Make the strategy a little better?"
   ]
  },
  {
   "cell_type": "code",
   "execution_count": null,
   "metadata": {},
   "outputs": [],
   "source": [
    "better_strat = Strategy()\n",
    "\n",
    "better_strat.set_troops([ 0,  0, 11,  1,  1, 23,4,  3, 33, 24])"
   ]
  },
  {
   "cell_type": "code",
   "execution_count": null,
   "metadata": {},
   "outputs": [],
   "source": [
    "sim_against_all(clean_data, better_strat)"
   ]
  },
  {
   "cell_type": "code",
   "execution_count": null,
   "metadata": {},
   "outputs": [],
   "source": []
  }
 ],
 "metadata": {
  "kernelspec": {
   "display_name": "Python 3",
   "language": "python",
   "name": "python3"
  },
  "language_info": {
   "codemirror_mode": {
    "name": "ipython",
    "version": 3
   },
   "file_extension": ".py",
   "mimetype": "text/x-python",
   "name": "python",
   "nbconvert_exporter": "python",
   "pygments_lexer": "ipython3",
   "version": "3.6.9"
  }
 },
 "nbformat": 4,
 "nbformat_minor": 2
}
